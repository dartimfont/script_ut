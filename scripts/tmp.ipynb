{
 "cells": [
  {
   "cell_type": "code",
   "execution_count": null,
   "id": "6344160b",
   "metadata": {},
   "outputs": [],
   "source": [
    "for i in range(1, 36):\n",
    "    print(f\"<lolienergistics:sword{i}>,\")"
   ]
  },
  {
   "cell_type": "code",
   "execution_count": null,
   "id": "8b928691",
   "metadata": {},
   "outputs": [],
   "source": [
    "for i in range(1, 9):\n",
    "    print(f\"<lolienergistics:item.electric_head_king{i}>,\")\n",
    "    print(f\"<lolienergistics:item.electric_chest_king{i}>,\")\n",
    "    print(f\"<lolienergistics:item.electric_legs_king{i}>,\")\n",
    "    print(f\"<lolienergistics:item.electric_feet_king{i}>,\")"
   ]
  },
  {
   "cell_type": "code",
   "execution_count": null,
   "id": "4bdd0384",
   "metadata": {},
   "outputs": [],
   "source": [
    "armors = [\"gold\", \"dark\", \"satan\", \"hero\", \"oson\", \"leon\"]\n",
    "for i in armors:\n",
    "    print(f\"<lolienergistics:item.electric_head_{i}>,\")\n",
    "    print(f\"<lolienergistics:item.electric_chest_{i}>,\")\n",
    "    print(f\"<lolienergistics:item.electric_legs_{i}>,\")\n",
    "    print(f\"<lolienergistics:item.electric_feet_{i}>,\")"
   ]
  }
 ],
 "metadata": {
  "kernelspec": {
   "display_name": "Python 3",
   "language": "python",
   "name": "python3"
  },
  "language_info": {
   "codemirror_mode": {
    "name": "ipython",
    "version": 3
   },
   "file_extension": ".py",
   "mimetype": "text/x-python",
   "name": "python",
   "nbconvert_exporter": "python",
   "pygments_lexer": "ipython3",
   "version": "3.13.5"
  }
 },
 "nbformat": 4,
 "nbformat_minor": 5
}
